{
 "cells": [
  {
   "cell_type": "markdown",
   "metadata": {},
   "source": [
    "<div style=\"background: #000;\n",
    "            color: #FFF;\n",
    "            margin: 0px;\n",
    "            padding: 20px 0px 0px 0px;\">\n",
    "    <h1><center>DS TA Technical Assessment</center></h1>\n",
    "</div>\n",
    "\n",
    "### Instructions:\n",
    "\n",
    "1. Rename this Jupyter Notebook to include your name & position you are applying for (Ex. John_Doe_DS TA)\n",
    "2. Submit this file within 3 business days via Github link\n"
   ]
  },
  {
   "cell_type": "markdown",
   "metadata": {},
   "source": [
    "### Exercise 1\n",
    "\n",
    "Create a function that takes two arguments (both arguments being lists) and uses them to create a dictionary. The first argument should be used for the keys and the second argument should be used as the values. Each element should match up (meaning the first element of the first argument/list should be the key while the first element of the second argument/list should be the value). If either list is missing an element that the other has, skip it.\n",
    "\n",
    "Examples\n",
    "```\n",
    "ex1([],[]) -> {}\n",
    "ex1([0,1,2],[]) -> {}\n",
    "ex1(['a', 'b', 'c'], [1,2,3]) -> {'a':1, 'b':2, 'c':3}\n",
    "\n",
    "\n",
    "```"
   ]
  },
  {
   "cell_type": "code",
   "execution_count": 1,
   "metadata": {},
   "outputs": [
    {
     "name": "stdout",
     "output_type": "stream",
     "text": [
      "solution is correct\n"
     ]
    }
   ],
   "source": [
    "def exercise_1(lst1, lst2):\n",
    "    # initialize empty dictionary\n",
    "    res = dict()\n",
    "    \n",
    "    # get lengths of both argument lists\n",
    "    len_lst1 = len(lst1)\n",
    "    len_lst2 = len(lst2)\n",
    "    \n",
    "    # return empty dictionary if either argument is an empty list\n",
    "    if len_lst1 == 0 or len_lst2 == 0:\n",
    "        return res\n",
    "    \n",
    "    # determine the smaller list length\n",
    "    smaller_lst_len = len_lst1\n",
    "    if len_lst2 < len_lst1:\n",
    "        smaller_lst_len = len_lst2\n",
    "    \n",
    "    # assign keys and values up to the end index of the smaller list\n",
    "    for i in range(smaller_lst_len):\n",
    "        res[lst1[i]] = lst2[i]\n",
    "        \n",
    "    return res\n",
    "\n",
    "try:\n",
    "    assert(exercise_1([],[]) == {})\n",
    "    assert(exercise_1([0,1,2],[]) == {})\n",
    "    assert(exercise_1([0,1],[0]) == {0: 0})\n",
    "    assert(exercise_1(['a', 'b', 'c'],[1,2,3]) == {'a': 1, 'b': 2, 'c': 3})\n",
    "    print(\"solution is correct\")\n",
    "except AssertionError:\n",
    "    print(\"solution is incorrect\")"
   ]
  },
  {
   "cell_type": "markdown",
   "metadata": {},
   "source": [
    "### Exercise 3\n",
    "\n",
    "Fix the following code:"
   ]
  },
  {
   "cell_type": "code",
   "execution_count": 2,
   "metadata": {},
   "outputs": [
    {
     "name": "stdout",
     "output_type": "stream",
     "text": [
      "printing count:\n",
      "4\n",
      "\n",
      "listing stack:\n",
      "<node - book4>\n",
      "<node - book3>\n",
      "<node - book2>\n",
      "<node - book1>\n",
      "\n",
      "popping from top of stack:\n",
      "<node - book4>\n",
      "\n",
      "listing remaining:\n",
      "<node - book3>\n",
      "<node - book2>\n",
      "<node - book1>\n",
      "\n",
      "printing top of stack:\n",
      "<node - book1>\n"
     ]
    }
   ],
   "source": [
    "class Node:\n",
    "    def __init__(self, data=None):\n",
    "        self.data = data\n",
    "        self.previous = None\n",
    "    \n",
    "    def __repr__(self):\n",
    "        return f\"<node - {self.data}>\"\n",
    "        \n",
    "class Stack:\n",
    "    def __init__(self):\n",
    "        self.top = None\n",
    "        self.bottom = None\n",
    "        self.count = 0\n",
    "        \n",
    "    def print_items(self):\n",
    "        current_item = self.top\n",
    "        while current_item:\n",
    "            val = current_item.data\n",
    "            print(current_item)\n",
    "            current_item = current_item.previous\n",
    "            \n",
    "    def add(self, data=None):\n",
    "        node = Node(data)\n",
    "        if self.top:\n",
    "            ##################\n",
    "            # fix this part: #\n",
    "            ##################\n",
    "            node.previous = self.top\n",
    "            self.top = node\n",
    "            ##################\n",
    "            #   end of part  #\n",
    "            ##################\n",
    "        else:\n",
    "            self.top = node\n",
    "            self.bottom = node\n",
    "        self.count += 1\n",
    "        \n",
    "    def pop(self):\n",
    "        if self.top:\n",
    "            old_top = self.top\n",
    "            self.top = old_top.previous\n",
    "            return old_top\n",
    "        else:\n",
    "            return \"empty stack\"\n",
    "\n",
    "        \n",
    "stack = Stack()\n",
    "stack.add('book1')\n",
    "stack.add('book2')\n",
    "stack.add('book3')\n",
    "stack.add('book4')\n",
    "print(\"printing count:\")\n",
    "print(stack.count)\n",
    "print(\"\\nlisting stack:\")\n",
    "stack.print_items()\n",
    "print(\"\\npopping from top of stack:\")\n",
    "print(stack.pop())\n",
    "print(\"\\nlisting remaining:\")\n",
    "stack.print_items()\n",
    "print(\"\\nprinting top of stack:\")\n",
    "print(stack.bottom)"
   ]
  },
  {
   "cell_type": "markdown",
   "metadata": {},
   "source": [
    "#### Exercise 15\n",
    "\n",
    "Write a function that creates a domain name given a `subdomain`, a `domain`, a `tld` and a boolean for `secure`.\n",
    "\n",
    "Use the following arguments:\n",
    "\n",
    "```\n",
    "domain - a string given as input\n",
    "subdomain - either a string given as input or \"www\" by default\n",
    "tld - either a  string given as input or \"com\" (as in .com) by default\n",
    "secure - boolean argument that sets \"https\" if 'secure' is true otherwise use \"http\"\n",
    "```\n",
    "examples:\n",
    "```\n",
    "make_url(\"google\") -> \"https://www.google.com\"\n",
    "make_url(\"example\", subdomain=None, tld=\"com\", secure=False) -> \"http://example.com\"\n",
    "make_url(\"theknowledgehouse\", tld=\"org\", secure=True) -> \"https://www.theknowledgehouse.org\"\n",
    "```\n",
    "\n",
    "Note: A subdomain is optional but providing one means you need to add a period between the subdomain and the domain. So if a subdomain is `None`, you do NOT want to add a period after it. If one is provided, you DO."
   ]
  },
  {
   "cell_type": "code",
   "execution_count": 3,
   "metadata": {},
   "outputs": [
    {
     "name": "stdout",
     "output_type": "stream",
     "text": [
      "solution is correct\n"
     ]
    }
   ],
   "source": [
    "# this function definition will pass all the assert statements in this cell. however, this approach\n",
    "# does not match the description of the function in the exercise. it instead defaults the secure argument to True\n",
    "def make_url(domain, subdomain=\"www\", tld=\"com\", secure=True):\n",
    "    # initialize empty string\n",
    "    res = \"\"\n",
    "    \n",
    "    # check if protocol is secure and add protocol to result\n",
    "    protocol = \"https\" if secure == True else \"http\"\n",
    "    res += protocol\n",
    "    res += \"://\"\n",
    "    \n",
    "    # add subdomain to result if it exists\n",
    "    if subdomain:\n",
    "        res += subdomain\n",
    "        res += \".\"\n",
    "    \n",
    "    #  add domain to result\n",
    "    res += domain\n",
    "\n",
    "    \n",
    "    # add tld to result\n",
    "    res += \".\"\n",
    "    res += tld\n",
    "    \n",
    "    return res\n",
    "\n",
    "try:\n",
    "    assert(make_url(\"google\") == \"https://www.google.com\")\n",
    "    assert(make_url(\"example\", subdomain=None, tld=\"com\", secure=False) == \"http://example.com\")\n",
    "    assert(make_url(\"theknowledgehouse\", tld=\"org\", secure=True) == \"https://www.theknowledgehouse.org\")\n",
    "    print(\"solution is correct\")\n",
    "except AssertionError:\n",
    "    print(\"solution is incorrect\")"
   ]
  },
  {
   "cell_type": "markdown",
   "metadata": {},
   "source": [
    "If we want to define the `make_url()` function as described in the exercise, and have it pass all the tests, we can rewrite the function and the tests as so:"
   ]
  },
  {
   "cell_type": "code",
   "execution_count": 4,
   "metadata": {},
   "outputs": [
    {
     "name": "stdout",
     "output_type": "stream",
     "text": [
      "solution is correct\n"
     ]
    }
   ],
   "source": [
    "# this function definition is how I would create the function given the description. however, this approach\n",
    "# will not pass all the assert statements in previous code cell\n",
    "def make_url(domain, subdomain=\"www\", tld=\"com\", secure=False):\n",
    "    # initialize empty string\n",
    "    res = \"\"\n",
    "    \n",
    "    # check if protocol is secure and add protocol to result\n",
    "    protocol = \"https\" if secure == True else \"http\"\n",
    "    res += protocol\n",
    "    res += \"://\"\n",
    "    \n",
    "    # add subdomain to result if it exists\n",
    "    if subdomain:\n",
    "        res += subdomain\n",
    "        res += \".\"\n",
    "    \n",
    "    #  add domain to result\n",
    "    res += domain\n",
    "\n",
    "    \n",
    "    # add tld to result\n",
    "    res += \".\"\n",
    "    res += tld\n",
    "    \n",
    "    return res\n",
    "\n",
    "try:\n",
    "    assert(make_url(\"google\") == \"http://www.google.com\")\n",
    "    assert(make_url(\"example\", subdomain=None, tld=\"com\", secure=False) == \"http://example.com\")\n",
    "    assert(make_url(\"theknowledgehouse\", tld=\"org\", secure=True) == \"https://www.theknowledgehouse.org\")\n",
    "    print(\"solution is correct\")\n",
    "except AssertionError:\n",
    "    print(\"solution is incorrect\")"
   ]
  },
  {
   "cell_type": "markdown",
   "metadata": {},
   "source": [
    "All that has changed is that the `secure` argument now defaults to `False`, and the first `assert` statement has the protocol of the URL as `\"http\"`, which is what we would expect given the exercise description."
   ]
  },
  {
   "cell_type": "markdown",
   "metadata": {},
   "source": [
    "### Exercise 16\n",
    "\n",
    "Create a function that creates a `n` by `n` matrix (`n` rows and `n` columns) filled with zeros."
   ]
  },
  {
   "cell_type": "code",
   "execution_count": 5,
   "metadata": {},
   "outputs": [
    {
     "name": "stdout",
     "output_type": "stream",
     "text": [
      "solution is correct\n"
     ]
    }
   ],
   "source": [
    "def exercise_16(n):\n",
    "    # initialize empty list\n",
    "    res = []\n",
    "    # interate through a range from 1 to n to add n sublists of length n\n",
    "    for i in range(n):\n",
    "        # add one inner list of 0s of length n\n",
    "        res.append(n*[0])\n",
    "    return res\n",
    "try:\n",
    "    assert(exercise_16(1) == [[0]])\n",
    "    assert(exercise_16(2) == [[0, 0], [0, 0]])\n",
    "    assert(exercise_16(3) == [[0, 0, 0], [0, 0, 0], [0, 0, 0]])\n",
    "    assert(exercise_16(4) == [[0, 0, 0, 0], [0, 0, 0, 0], [0, 0, 0, 0], [0, 0, 0, 0]])\n",
    "    print(\"solution is correct\")\n",
    "except AssertionError:\n",
    "    print(\"solution is incorrect\")"
   ]
  },
  {
   "cell_type": "markdown",
   "metadata": {},
   "source": [
    "### Exercise 19\n",
    "\n",
    "Add a method called `from_full_name` to the following function so that we are able to create an instance of the class by passing the a full name (string of first and last name separated by a space). Do not remove anything that already exists. Then create an instance using that method."
   ]
  },
  {
   "cell_type": "code",
   "execution_count": 6,
   "metadata": {},
   "outputs": [
    {
     "name": "stdout",
     "output_type": "stream",
     "text": [
      "solution should probably be correct (not guaranteed)\n"
     ]
    }
   ],
   "source": [
    "import inspect # this is necessary for checking your answer - ignore\n",
    "\n",
    "class Person:\n",
    "    # initialize Person object with attributes first_name and last_name\n",
    "    def __init__(self, first_name, last_name):\n",
    "        self.first_name = first_name\n",
    "        self.last_name = last_name\n",
    "    \n",
    "    # decorator to indicate this is a class method\n",
    "    @classmethod\n",
    "    # define function with cls and full_name arguments\n",
    "    def from_full_name(cls, full_name):\n",
    "        # parse out first and last names\n",
    "        first_name = full_name.split()[0]\n",
    "        last_name = full_name.split()[1]\n",
    "        # return new Person object\n",
    "        return cls(first_name, last_name)\n",
    "        \n",
    "try:\n",
    "    p = Person.from_full_name(\"A P\")\n",
    "    assert(getattr(p, 'first_name', None) == \"A\")\n",
    "    assert(getattr(p, 'last_name', None) == \"P\")\n",
    "    assert(inspect.ismethod(Person.from_full_name) and Person.from_full_name.__self__ is Person)\n",
    "    print(\"solution should probably be correct (not guaranteed)\")\n",
    "except AssertionError:\n",
    "    print(\"solution is incorrect\")  "
   ]
  }
 ],
 "metadata": {
  "kernelspec": {
   "display_name": "Python 3",
   "language": "python",
   "name": "python3"
  },
  "language_info": {
   "codemirror_mode": {
    "name": "ipython",
    "version": 3
   },
   "file_extension": ".py",
   "mimetype": "text/x-python",
   "name": "python",
   "nbconvert_exporter": "python",
   "pygments_lexer": "ipython3",
   "version": "3.8.5"
  }
 },
 "nbformat": 4,
 "nbformat_minor": 4
}
